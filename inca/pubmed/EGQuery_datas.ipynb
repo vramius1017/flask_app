{
 "cells": [
  {
   "cell_type": "code",
   "execution_count": 1,
   "metadata": {
    "scrolled": true
   },
   "outputs": [
    {
     "name": "stdout",
     "output_type": "stream",
     "text": [
      "connexion active !!!\n",
      "entrer un terme: green tea and neoplasms\n",
      "\n",
      "pubmed 3540\n",
      "pmc 7363\n",
      "mesh 0\n",
      "books 290\n",
      "pubmedhealth 33\n",
      "omim 0\n",
      "ncbisearch 0\n",
      "nuccore 0\n",
      "nucgss Error\n",
      "nucest Error\n",
      "protein 0\n",
      "genome 0\n",
      "structure 0\n",
      "taxonomy 0\n",
      "snp 0\n",
      "dbvar 0\n",
      "gene 23\n",
      "sra 0\n",
      "biosystems 0\n",
      "unigene Error\n",
      "cdd 0\n",
      "clone Error\n",
      "popset 30\n",
      "geoprofiles 0\n",
      "gds 18\n",
      "homologene 0\n",
      "pccompound 9\n",
      "pcsubstance 0\n",
      "pcassay 0\n",
      "nlmcatalog 11\n",
      "probe 0\n",
      "gap 10\n",
      "proteinclusters 13\n",
      "bioproject 0\n",
      "biosample 0\n",
      "biocollections 0\n"
     ]
    }
   ],
   "source": [
    "##########################################\n",
    "# module affstats                        #\n",
    "# nb de publications par bases de Medline#\n",
    "##########################################\n",
    "from Bio import Entrez\n",
    "from Bio import Medline\n",
    "\n",
    "def ConPub():\n",
    "    Entrez.api_key = \"41843b992ded592334c39fe437c425e40608\"\n",
    "    Entrez.email = \"sacha.torres@univ_montp3.fr\"\n",
    "    Entrez.tool = \"Inca\"\n",
    "    print(\"connexion active !!!\")\n",
    "    \n",
    "def EGQuery(t):\n",
    "    handle = Entrez.egquery(term=t)\n",
    "    record = Entrez.read(handle)\n",
    "    return record\n",
    "    \n",
    "ConPub()  \n",
    "te = input(\"entrer un terme: \")\n",
    "print(\"\")\n",
    "for row in EGQuery(te)[\"eGQueryResult\"]:\n",
    "    print(row[\"DbName\"],row[\"Count\"])"
   ]
  },
  {
   "cell_type": "code",
   "execution_count": null,
   "metadata": {},
   "outputs": [],
   "source": []
  }
 ],
 "metadata": {
  "kernelspec": {
   "display_name": "Python 3",
   "language": "python",
   "name": "python3"
  },
  "language_info": {
   "codemirror_mode": {
    "name": "ipython",
    "version": 3
   },
   "file_extension": ".py",
   "mimetype": "text/x-python",
   "name": "python",
   "nbconvert_exporter": "python",
   "pygments_lexer": "ipython3",
   "version": "3.8.0"
  }
 },
 "nbformat": 4,
 "nbformat_minor": 4
}
