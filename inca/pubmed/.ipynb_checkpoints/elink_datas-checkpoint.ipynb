{
 "cells": [
  {
   "cell_type": "code",
   "execution_count": 1,
   "metadata": {},
   "outputs": [
    {
     "name": "stdout",
     "output_type": "stream",
     "text": [
      "connexion engaged Captain Picard !!!\n",
      "\n",
      "entrer un pmid : 29360138\n",
      "pubmed pubmed_pubmed   410\n",
      "pubmed pubmed_pubmed_alsoviewed   11\n",
      "pubmed pubmed_pubmed_citedin   9\n",
      "pubmed pubmed_pubmed_combined   6\n",
      "pubmed pubmed_pubmed_five   6\n",
      "pubmed pubmed_pubmed_refs   197\n",
      "pubmed pubmed_pubmed_reviews   162\n",
      "pubmed pubmed_pubmed_reviews_five   6\n",
      "\n"
     ]
    }
   ],
   "source": [
    "# données sur les citations de la meta analyse ou de l'article \n",
    "\n",
    "\n",
    "from Bio import Entrez ,Medline\n",
    "def ConPub():\n",
    "    Entrez.api_key = \"41843b992ded592334c39fe437c425e40608\"\n",
    "    Entrez.email = \"sacha.torres@univ_montp3.fr\"\n",
    "    Entrez.tool = \"Inca\"\n",
    "    print(\"connexion engaged Captain Picard !!!\")\n",
    "    print(\"\")\n",
    "    \n",
    "def clean_data(x):\n",
    "    chaine = str(x)\n",
    "    chaine = chaine.replace(\"['\",\" \")\n",
    "    chaine = chaine.replace(\"']\",\" \")\n",
    "    chaine = chaine.replace(\"'\",\" \")\n",
    "    return chaine    \n",
    "\n",
    "def PubStats():\n",
    "    pmid = input(\"entrer un pmid : \")# faire un test sur est un entier ou est un potentiel pmid \n",
    "    handle = Entrez.elink(db=\"pubmed\",id=pmid)\n",
    "    record = Entrez.read(handle)\n",
    "    return record\n",
    "def PubLink():\n",
    "    pass\n",
    "\n",
    "\n",
    "ConPub()\n",
    "record = PubStats()\n",
    "\n",
    "# print(\"DB origine : \",record[0][\"DbFrom\"])\n",
    "# print(\" pmid de la publication : \",record[0][\"IdList\"])\n",
    "\n",
    "links = record[0][\"LinkSetDb\"]\n",
    "for link in links:\n",
    "    print(link[\"DbTo\"],link[\"LinkName\"],\" \",len(link[\"Link\"]))\n",
    "print(\"\")    \n",
    "############################################ \n",
    "\n",
    "# pubmed pubmed_pubmed   \n",
    "# pubmed pubmed_pubmed_alsoviewed   \n",
    "# pubmed pubmed_pubmed_citedin  \n",
    "# pubmed pubmed_pubmed_combined   \n",
    "# pubmed pubmed_pubmed_five   6 \n",
    "# pubmed pubmed_pubmed_refs   61 \n",
    "# pubmed pubmed_pubmed_reviews   169 \n",
    "# pubmed pubmed_pubmed_reviews_five  \n",
    "\n",
    "# il manque pubmed_assembly , pubmed_bioproject , pubmed_biosystems , pubmed_biosample , pubmed_cancerchromosomes\n",
    "############################################\n",
    "#for i in links:\n",
    "#   print(\"pubmed_pubmed :  \",end=\"\")\n",
    "#    print(record[0][\"LinkSetDb\"][0][\"Link\"])\n",
    "#    print(\"-------------------------------------\")\n",
    "#    print(\"pubmed_pubmed_alsoviewed :  \",end=\"\")\n",
    "#    print(record[0][\"LinkSetDb\"][1][\"Link\"])# on accede au type de lien par le deuxieme indice\n",
    "#print(\"\")\n",
    "\n",
    "# pour afficher les pmid selon le type de lien \n",
    "#ids = record[0][\"LinkSetDb\"][4][\"Link\"]\n",
    "#for link in ids:\n",
    "#    print(link[\"Id\"],\" \",end=\"\")\n",
    "    "
   ]
  },
  {
   "cell_type": "code",
   "execution_count": null,
   "metadata": {},
   "outputs": [],
   "source": []
  }
 ],
 "metadata": {
  "kernelspec": {
   "display_name": "Python 3",
   "language": "python",
   "name": "python3"
  },
  "language_info": {
   "codemirror_mode": {
    "name": "ipython",
    "version": 3
   },
   "file_extension": ".py",
   "mimetype": "text/x-python",
   "name": "python",
   "nbconvert_exporter": "python",
   "pygments_lexer": "ipython3",
   "version": "3.8.0"
  }
 },
 "nbformat": 4,
 "nbformat_minor": 4
}
