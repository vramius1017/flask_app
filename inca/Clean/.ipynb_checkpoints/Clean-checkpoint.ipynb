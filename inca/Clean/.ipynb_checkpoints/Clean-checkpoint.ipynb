{
 "cells": [
  {
   "cell_type": "code",
   "execution_count": null,
   "metadata": {},
   "outputs": [],
   "source": [
    "def clean_data(x):\n",
    "    chaine = str(x)\n",
    "    chaine = chaine.replace(\"['\",\" \")\n",
    "    chaine = chaine.replace(\"']\",\" \")\n",
    "    chaine = chaine.replace(\"'\",\" \")\n",
    "    return chaine\n",
    "\n",
    "\n",
    "def clean_a(x):\n",
    "    chaine = str(x)\n",
    "    chaine = chaine.replace(\"/\",\"\")\n",
    "    chaine = chaine.replace(\"*\",\" \")\n",
    "    return chaine\n",
    "\n",
    "def clean_date(x):\n",
    "    import datetime\n",
    "    md = datetime.datetime.strptime(x,\"%Y%m%d\").date()\n",
    "    return md"
   ]
  }
 ],
 "metadata": {
  "kernelspec": {
   "display_name": "Python 3",
   "language": "python",
   "name": "python3"
  },
  "language_info": {
   "codemirror_mode": {
    "name": "ipython",
    "version": 3
   },
   "file_extension": ".py",
   "mimetype": "text/x-python",
   "name": "python",
   "nbconvert_exporter": "python",
   "pygments_lexer": "ipython3",
   "version": "3.7.4"
  }
 },
 "nbformat": 4,
 "nbformat_minor": 2
}
