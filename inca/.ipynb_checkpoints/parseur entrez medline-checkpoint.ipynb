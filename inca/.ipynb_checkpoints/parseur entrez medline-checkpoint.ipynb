{
 "cells": [
  {
   "cell_type": "code",
   "execution_count": 36,
   "metadata": {},
   "outputs": [
    {
     "name": "stdout",
     "output_type": "stream",
     "text": [
      "Résultats\n",
      "\n",
      "['31452000', '30855678', '30583134', '31790152', '29936451', '30621039', '31392470', '30641474', '28980522', '30325021', '27723473', '27869750', '29472583', '27634207', '26578531', '30320348', '28969404', '27372743', '28095030', '28353571']\n",
      "\n",
      "3533\n",
      "\n",
      "20\n",
      "\n",
      "<generator object DataHandler.parse at 0x00000236D87BE848>\n"
     ]
    },
    {
     "ename": "ValueError",
     "evalue": "The XML file does not represent a list. Please use Entrez.read instead of Entrez.parse",
     "output_type": "error",
     "traceback": [
      "\u001b[1;31m---------------------------------------------------------------------------\u001b[0m",
      "\u001b[1;31mValueError\u001b[0m                                Traceback (most recent call last)",
      "\u001b[1;32m<ipython-input-36-d16aa663f3c5>\u001b[0m in \u001b[0;36m<module>\u001b[1;34m\u001b[0m\n\u001b[0;32m     30\u001b[0m \u001b[0mp\u001b[0m \u001b[1;33m=\u001b[0m \u001b[0mEsearchParse\u001b[0m\u001b[1;33m(\u001b[0m\u001b[0mquery\u001b[0m\u001b[1;33m)\u001b[0m\u001b[1;33m\u001b[0m\u001b[1;33m\u001b[0m\u001b[0m\n\u001b[0;32m     31\u001b[0m \u001b[0mprint\u001b[0m\u001b[1;33m(\u001b[0m\u001b[0mp\u001b[0m\u001b[1;33m)\u001b[0m\u001b[1;33m\u001b[0m\u001b[1;33m\u001b[0m\u001b[0m\n\u001b[1;32m---> 32\u001b[1;33m \u001b[1;32mfor\u001b[0m \u001b[0mi\u001b[0m \u001b[1;32min\u001b[0m \u001b[0mp\u001b[0m\u001b[1;33m:\u001b[0m\u001b[1;33m\u001b[0m\u001b[1;33m\u001b[0m\u001b[0m\n\u001b[0m\u001b[0;32m     33\u001b[0m     \u001b[0mprint\u001b[0m\u001b[1;33m(\u001b[0m\u001b[0mi\u001b[0m\u001b[1;33m)\u001b[0m\u001b[1;33m\u001b[0m\u001b[1;33m\u001b[0m\u001b[0m\n",
      "\u001b[1;32mC:\\ProgramData\\Anaconda3\\lib\\site-packages\\Bio\\Entrez\\Parser.py\u001b[0m in \u001b[0;36mparse\u001b[1;34m(self, handle)\u001b[0m\n\u001b[0;32m    387\u001b[0m \u001b[1;33m\u001b[0m\u001b[0m\n\u001b[0;32m    388\u001b[0m             \u001b[1;32mif\u001b[0m \u001b[1;32mnot\u001b[0m \u001b[0misinstance\u001b[0m\u001b[1;33m(\u001b[0m\u001b[0mrecords\u001b[0m\u001b[1;33m,\u001b[0m \u001b[0mlist\u001b[0m\u001b[1;33m)\u001b[0m\u001b[1;33m:\u001b[0m\u001b[1;33m\u001b[0m\u001b[1;33m\u001b[0m\u001b[0m\n\u001b[1;32m--> 389\u001b[1;33m                 \u001b[1;32mraise\u001b[0m \u001b[0mValueError\u001b[0m\u001b[1;33m(\u001b[0m\u001b[1;34m\"The XML file does not represent a list. Please use Entrez.read instead of Entrez.parse\"\u001b[0m\u001b[1;33m)\u001b[0m\u001b[1;33m\u001b[0m\u001b[1;33m\u001b[0m\u001b[0m\n\u001b[0m\u001b[0;32m    390\u001b[0m \u001b[1;33m\u001b[0m\u001b[0m\n\u001b[0;32m    391\u001b[0m             \u001b[1;32mif\u001b[0m \u001b[1;32mnot\u001b[0m \u001b[0mtext\u001b[0m\u001b[1;33m:\u001b[0m\u001b[1;33m\u001b[0m\u001b[1;33m\u001b[0m\u001b[0m\n",
      "\u001b[1;31mValueError\u001b[0m: The XML file does not represent a list. Please use Entrez.read instead of Entrez.parse"
     ]
    }
   ],
   "source": [
    "from Bio import Entrez,Medline\n",
    "from lxml import etree\n",
    "query = \"green tea and neoplasms\"\n",
    "\n",
    "def ConPubMed():\n",
    "    Entrez.api_key = \"41843b992ded592334c39fe437c425e40608\"\n",
    "    Entrez.email = \"sacha.torres@univ_montp3.fr\"\n",
    "    Entrez.tool = \"Inca\"\n",
    "    \n",
    "def Esearch(q):   \n",
    "    hend = Entrez.esearch(db=\"pubmed\",term=q,sort=\"relevance\")\n",
    "    ret = Entrez.read(hend) \n",
    "    return ret\n",
    "\n",
    "def EsearchParse(q):\n",
    "    hand = Entrez.esearch(db=\"pubmed\",term=q,rettype='medline')\n",
    "    reta = Entrez.parse(hand) \n",
    "    return reta\n",
    "\n",
    "ConPubMed()\n",
    "print(\"Résultats\")\n",
    "print(\"\")\n",
    "r = Esearch(query)\n",
    "print(r[\"IdList\"])\n",
    "print(\"\")\n",
    "print(r[\"Count\"])\n",
    "print(\"\")\n",
    "print(r[\"RetMax\"])\n",
    "print(\"\")\n",
    "p = Esearch(query)\n",
    "print(p)\n",
    "for i in p:\n",
    "    print(i)"
   ]
  },
  {
   "cell_type": "code",
   "execution_count": null,
   "metadata": {},
   "outputs": [],
   "source": []
  }
 ],
 "metadata": {
  "kernelspec": {
   "display_name": "Python 3",
   "language": "python",
   "name": "python3"
  },
  "language_info": {
   "codemirror_mode": {
    "name": "ipython",
    "version": 3
   },
   "file_extension": ".py",
   "mimetype": "text/x-python",
   "name": "python",
   "nbconvert_exporter": "python",
   "pygments_lexer": "ipython3",
   "version": "3.7.4"
  }
 },
 "nbformat": 4,
 "nbformat_minor": 2
}
