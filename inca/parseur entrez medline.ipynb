{
 "cells": [
  {
   "cell_type": "code",
   "execution_count": 37,
   "metadata": {},
   "outputs": [
    {
     "name": "stdout",
     "output_type": "stream",
     "text": [
      "Résultats\n",
      "\n",
      "['31452000', '30855678', '30583134', '31790152', '29936451', '30621039', '31392470', '30641474', '28980522', '30325021', '27723473', '27869750', '29472583', '27634207', '26578531', '30320348', '28969404', '27372743', '28095030', '28353571']\n",
      "\n",
      "3533\n",
      "\n",
      "20\n",
      "\n",
      "{'Count': '3533', 'RetMax': '20', 'RetStart': '0', 'IdList': ['31452000', '30855678', '30583134', '31790152', '29936451', '30621039', '31392470', '30641474', '28980522', '30325021', '27723473', '27869750', '29472583', '27634207', '26578531', '30320348', '28969404', '27372743', '28095030', '28353571'], 'TranslationSet': [{'From': 'green tea', 'To': '\"tea\"[MeSH Terms] OR \"tea\"[All Fields] OR (\"green\"[All Fields] AND \"tea\"[All Fields]) OR \"green tea\"[All Fields]'}, {'From': 'neoplasms', 'To': '\"neoplasms\"[MeSH Terms] OR \"neoplasms\"[All Fields]'}], 'TranslationStack': [{'Term': '\"tea\"[MeSH Terms]', 'Field': 'MeSH Terms', 'Count': '9864', 'Explode': 'Y'}, {'Term': '\"tea\"[All Fields]', 'Field': 'All Fields', 'Count': '32232', 'Explode': 'N'}, 'OR', {'Term': '\"green\"[All Fields]', 'Field': 'All Fields', 'Count': '266547', 'Explode': 'N'}, {'Term': '\"tea\"[All Fields]', 'Field': 'All Fields', 'Count': '32232', 'Explode': 'N'}, 'AND', 'GROUP', 'OR', {'Term': '\"green tea\"[All Fields]', 'Field': 'All Fields', 'Count': '8288', 'Explode': 'N'}, 'OR', 'GROUP', {'Term': '\"neoplasms\"[MeSH Terms]', 'Field': 'MeSH Terms', 'Count': '3286075', 'Explode': 'Y'}, {'Term': '\"neoplasms\"[All Fields]', 'Field': 'All Fields', 'Count': '2632139', 'Explode': 'N'}, 'OR', 'GROUP', 'AND', 'GROUP'], 'QueryTranslation': '(\"tea\"[MeSH Terms] OR \"tea\"[All Fields] OR (\"green\"[All Fields] AND \"tea\"[All Fields]) OR \"green tea\"[All Fields]) AND (\"neoplasms\"[MeSH Terms] OR \"neoplasms\"[All Fields])', 'WarningList': {'QuotedPhraseNotFound': [], 'PhraseIgnored': ['and'], 'OutputMessage': []}}\n",
      "Count\n",
      "RetMax\n",
      "RetStart\n",
      "IdList\n",
      "TranslationSet\n",
      "TranslationStack\n",
      "QueryTranslation\n",
      "WarningList\n"
     ]
    }
   ],
   "source": [
    "from Bio import Entrez,Medline\n",
    "from lxml import etree\n",
    "query = \"green tea and neoplasms\"\n",
    "\n",
    "def ConPubMed():\n",
    "    Entrez.api_key = \"41843b992ded592334c39fe437c425e40608\"\n",
    "    Entrez.email = \"sacha.torres@univ_montp3.fr\"\n",
    "    Entrez.tool = \"Inca\"\n",
    "    \n",
    "def Esearch(q):   \n",
    "    hend = Entrez.esearch(db=\"pubmed\",term=q,sort=\"relevance\")\n",
    "    ret = Entrez.read(hend) \n",
    "    return ret\n",
    "\n",
    "def EsearchParse(q):\n",
    "    hand = Entrez.esearch(db=\"pubmed\",term=q,rettype='medline')\n",
    "    reta = Entrez.parse(hand) \n",
    "    return reta\n",
    "\n",
    "ConPubMed()\n",
    "print(\"Résultats\")\n",
    "print(\"\")\n",
    "r = Esearch(query)\n",
    "print(r[\"IdList\"])\n",
    "print(\"\")\n",
    "print(r[\"Count\"])\n",
    "print(\"\")\n",
    "print(r[\"RetMax\"])\n",
    "print(\"\")\n",
    "p = Esearch(query)\n",
    "print(p)\n",
    "for i in p:\n",
    "    print(i)"
   ]
  },
  {
   "cell_type": "code",
   "execution_count": null,
   "metadata": {},
   "outputs": [],
   "source": []
  }
 ],
 "metadata": {
  "kernelspec": {
   "display_name": "Python 3",
   "language": "python",
   "name": "python3"
  },
  "language_info": {
   "codemirror_mode": {
    "name": "ipython",
    "version": 3
   },
   "file_extension": ".py",
   "mimetype": "text/x-python",
   "name": "python",
   "nbconvert_exporter": "python",
   "pygments_lexer": "ipython3",
   "version": "3.8.0"
  }
 },
 "nbformat": 4,
 "nbformat_minor": 2
}
